{
 "cells": [
  {
   "cell_type": "code",
   "execution_count": 1,
   "metadata": {},
   "outputs": [
    {
     "name": "stderr",
     "output_type": "stream",
     "text": [
      "WARNING: Logging before flag parsing goes to stderr.\n",
      "W1011 13:01:19.208642 4660381120 __init__.py:71] TensorFlow version 1.14.0 detected. Last version known to be fully compatible is 1.13.1 .\n"
     ]
    }
   ],
   "source": [
    "import coremltools"
   ]
  },
  {
   "cell_type": "code",
   "execution_count": 3,
   "metadata": {},
   "outputs": [
    {
     "name": "stdout",
     "output_type": "stream",
     "text": [
      "0 : embedding_4_input, <keras.engine.input_layer.InputLayer object at 0x14873e310>\n",
      "1 : embedding_4, <keras.layers.embeddings.Embedding object at 0x14873e210>\n",
      "2 : bidirectional_4, <keras.layers.wrappers.Bidirectional object at 0x148736190>\n",
      "3 : dense_4, <keras.layers.core.Dense object at 0x14873ec50>\n",
      "4 : dense_4__activation__, <keras.layers.core.Activation object at 0x14c669f50>\n"
     ]
    }
   ],
   "source": [
    "coreml_model = coremltools.converters.keras.convert('pain_level_training.h5',class_labels = ['none', 'mild', 'moderate','severe'])\n",
    "coreml_model.save('pain_level_training.mlmodel')"
   ]
  },
  {
   "cell_type": "code",
   "execution_count": null,
   "metadata": {},
   "outputs": [],
   "source": []
  }
 ],
 "metadata": {
  "kernelspec": {
   "display_name": "Python 3",
   "language": "python",
   "name": "python3"
  },
  "language_info": {
   "codemirror_mode": {
    "name": "ipython",
    "version": 3
   },
   "file_extension": ".py",
   "mimetype": "text/x-python",
   "name": "python",
   "nbconvert_exporter": "python",
   "pygments_lexer": "ipython3",
   "version": "3.7.4"
  }
 },
 "nbformat": 4,
 "nbformat_minor": 2
}
